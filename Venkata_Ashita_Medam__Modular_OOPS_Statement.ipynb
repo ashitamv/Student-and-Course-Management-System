{
  "nbformat": 4,
  "nbformat_minor": 0,
  "metadata": {
    "colab": {
      "provenance": []
    },
    "kernelspec": {
      "name": "python3",
      "display_name": "Python 3"
    },
    "language_info": {
      "name": "python"
    }
  },
  "cells": [
    {
      "cell_type": "code",
      "execution_count": 47,
      "metadata": {
        "colab": {
          "base_uri": "https://localhost:8080/"
        },
        "id": "ZIDNjDBWTyXH",
        "outputId": "64d78dae-f126-4b58-ac5b-fc98e4e33852"
      },
      "outputs": [
        {
          "output_type": "stream",
          "name": "stdout",
          "text": [
            "Students enrolled in Machine Learning:\n",
            "Name: Ashita, ID: 243\n",
            "Name: Sumedha, ID: 222\n",
            "Name: Ananya, ID: 101\n",
            "\n",
            "Average GPA of the course: 8.376666666666665\n",
            "\n",
            "\n",
            "Students enrolled in Machine Learning:\n",
            "Name: Ashita, ID: 243\n",
            "Name: Sumedha, ID: 222\n",
            "\n",
            "Average GPA of the course after removal: 8.716666666666665\n"
          ]
        }
      ],
      "source": [
        "# Student Management System\n",
        "class Student:\n",
        "\n",
        "  def __init__(self, name, student_id, branch, year, grades):\n",
        "        self.name = name\n",
        "        self.student_id = student_id\n",
        "        self.branch = branch\n",
        "        self.year = year\n",
        "        self.grades = grades\n",
        "\n",
        "  def calculate_gpa(self):\n",
        "        if len(self.grades) == 0:\n",
        "            return 0\n",
        "        total_points = sum(self.grades)\n",
        "        return total_points / len(self.grades)\n",
        "\n",
        "# Course Management System\n",
        "class Course:\n",
        "    def __init__(self, course_name):\n",
        "        self.course_name = course_name\n",
        "        self.enrolled_students = []\n",
        "\n",
        "    def add_student(self, student):\n",
        "        self.enrolled_students.append(student)\n",
        "\n",
        "    def remove_student(self, student_id):\n",
        "        for student in self.enrolled_students[:]:\n",
        "            if student.student_id == student_id:\n",
        "                self.enrolled_students.remove(student)\n",
        "                return True\n",
        "        return False\n",
        "\n",
        "    def average_gpa(self):\n",
        "        if not self.enrolled_students:\n",
        "            return 0\n",
        "        total_gpa = sum(student.calculate_gpa() for student in self.enrolled_students)\n",
        "        return total_gpa / len(self.enrolled_students)\n",
        "\n",
        "    def show_enrolled_students(self):\n",
        "        print(f\"Students enrolled in {self.course_name}:\")\n",
        "        for student in self.enrolled_students:\n",
        "            print(f\"Name: {student.name}, ID: {student.student_id}\")\n",
        "\n",
        "# Example\n",
        "if __name__ == \"__main__\":\n",
        "\n",
        "    # Create students\n",
        "    student1 = Student(\"Ashita\", 243, \"CSE\", 3, [8.25, 8.45, 9.20])\n",
        "    student2 = Student(\"Sumedha\", 222, \"CSE\", 3, [8.3, 8.6, 9.5])\n",
        "    student3 = Student(\"Ananya\", 101, \"CAM\", 3, [7.89, 7.50, 7.7])\n",
        "\n",
        "    # Create a course\n",
        "    c1 = Course(\"Machine Learning\")\n",
        "    c2 = Course(\"Artificial Intelligence\")\n",
        "\n",
        "    # Adding students\n",
        "    c1.add_student(student1)\n",
        "    c1.add_student(student2)\n",
        "    c1.add_student(student3)\n",
        "    c1.show_enrolled_students()\n",
        "\n",
        "    print(\"\\nAverage GPA of the course:\", c1.average_gpa())\n",
        "    print(\"\\n\")\n",
        "\n",
        "    # Removing a student\n",
        "    c1.remove_student(101)\n",
        "    c1.show_enrolled_students()\n",
        "\n",
        "    print(\"\\nAverage GPA of the course after removal:\", c1.average_gpa())\n"
      ]
    },
    {
      "cell_type": "code",
      "source": [],
      "metadata": {
        "id": "BxXADAvdau4J"
      },
      "execution_count": 38,
      "outputs": []
    }
  ]
}